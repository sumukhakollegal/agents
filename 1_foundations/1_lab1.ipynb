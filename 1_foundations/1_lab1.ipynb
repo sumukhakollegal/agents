{
 "cells": [
  {
   "cell_type": "markdown",
   "metadata": {},
   "source": [
    "# Welcome to the start of your adventure in Agentic AI"
   ]
  },
  {
   "cell_type": "markdown",
   "metadata": {},
   "source": [
    "<table style=\"margin: 0; text-align: left; width:100%\">\n",
    "    <tr>\n",
    "        <td style=\"width: 150px; height: 150px; vertical-align: middle;\">\n",
    "            <img src=\"../assets/stop.png\" width=\"150\" height=\"150\" style=\"display: block;\" />\n",
    "        </td>\n",
    "        <td>\n",
    "            <h2 style=\"color:#ff7800;\">Are you ready for action??</h2>\n",
    "            <span style=\"color:#ff7800;\">Have you completed all the setup steps in the <a href=\"../setup/\">setup</a> folder?<br/>\n",
    "            Have you checked out the guides in the <a href=\"../guides/01_intro.ipynb\">guides</a> folder?<br/>\n",
    "            Well in that case, you're ready!!\n",
    "            </span>\n",
    "        </td>\n",
    "    </tr>\n",
    "</table>"
   ]
  },
  {
   "cell_type": "markdown",
   "metadata": {},
   "source": [
    "<table style=\"margin: 0; text-align: left; width:100%\">\n",
    "    <tr>\n",
    "        <td style=\"width: 150px; height: 150px; vertical-align: middle;\">\n",
    "            <img src=\"../assets/tools.png\" width=\"150\" height=\"150\" style=\"display: block;\" />\n",
    "        </td>\n",
    "        <td>\n",
    "            <h2 style=\"color:#00bfff;\">This code is a live resource - keep an eye out for my updates</h2>\n",
    "            <span style=\"color:#00bfff;\">I push updates regularly. As people ask questions or have problems, I add more examples and improve explanations. As a result, the code below might not be identical to the videos, as I've added more steps and better comments. Consider this like an interactive book that accompanies the lectures.<br/><br/>\n",
    "            I try to send emails regularly with important updates related to the course. You can find this in the 'Announcements' section of Udemy in the left sidebar. You can also choose to receive my emails via your Notification Settings in Udemy. I'm respectful of your inbox and always try to add value with my emails!\n",
    "            </span>\n",
    "        </td>\n",
    "    </tr>\n",
    "</table>"
   ]
  },
  {
   "cell_type": "markdown",
   "metadata": {},
   "source": [
    "### And please do remember to contact me if I can help\n",
    "\n",
    "And I love to connect: https://www.linkedin.com/in/eddonner/\n",
    "\n",
    "\n",
    "### New to Notebooks like this one? Head over to the guides folder!\n",
    "\n",
    "Just to check you've already added the Python and Jupyter extensions to Cursor, if not already installed:\n",
    "- Open extensions (View >> extensions)\n",
    "- Search for python, and when the results show, click on the ms-python one, and Install it if not already installed\n",
    "- Search for jupyter, and when the results show, click on the Microsoft one, and Install it if not already installed  \n",
    "Then View >> Explorer to bring back the File Explorer.\n",
    "\n",
    "And then:\n",
    "1. Click where it says \"Select Kernel\" near the top right, and select the option called `.venv (Python 3.12.9)` or similar, which should be the first choice or the most prominent choice. You may need to choose \"Python Environments\" first.\n",
    "2. Click in each \"cell\" below, starting with the cell immediately below this text, and press Shift+Enter to run\n",
    "3. Enjoy!\n",
    "\n",
    "After you click \"Select Kernel\", if there is no option like `.venv (Python 3.12.9)` then please do the following:  \n",
    "1. On Mac: From the Cursor menu, choose Settings >> VS Code Settings (NOTE: be sure to select `VSCode Settings` not `Cursor Settings`);  \n",
    "On Windows PC: From the File menu, choose Preferences >> VS Code Settings(NOTE: be sure to select `VSCode Settings` not `Cursor Settings`)  \n",
    "2. In the Settings search bar, type \"venv\"  \n",
    "3. In the field \"Path to folder with a list of Virtual Environments\" put the path to the project root, like C:\\Users\\username\\projects\\agents (on a Windows PC) or /Users/username/projects/agents (on Mac or Linux).  \n",
    "And then try again.\n",
    "\n",
    "Having problems with missing Python versions in that list? Have you ever used Anaconda before? It might be interferring. Quit Cursor, bring up a new command line, and make sure that your Anaconda environment is deactivated:    \n",
    "`conda deactivate`  \n",
    "And if you still have any problems with conda and python versions, it's possible that you will need to run this too:  \n",
    "`conda config --set auto_activate_base false`  \n",
    "and then from within the Agents directory, you should be able to run `uv python list` and see the Python 3.12 version."
   ]
  },
  {
   "cell_type": "code",
   "execution_count": 1,
   "metadata": {},
   "outputs": [],
   "source": [
    "# First let's do an import\n",
    "from dotenv import load_dotenv\n"
   ]
  },
  {
   "cell_type": "code",
   "execution_count": 2,
   "metadata": {},
   "outputs": [
    {
     "data": {
      "text/plain": [
       "True"
      ]
     },
     "execution_count": 2,
     "metadata": {},
     "output_type": "execute_result"
    }
   ],
   "source": [
    "# Next it's time to load the API keys into environment variables\n",
    "\n",
    "load_dotenv(override=True)"
   ]
  },
  {
   "cell_type": "code",
   "execution_count": 3,
   "metadata": {},
   "outputs": [
    {
     "name": "stdout",
     "output_type": "stream",
     "text": [
      "OpenAI API Key exists and begins sk-proj-\n"
     ]
    }
   ],
   "source": [
    "# Check the keys\n",
    "\n",
    "import os\n",
    "openai_api_key = os.getenv('OPENAI_API_KEY')\n",
    "\n",
    "if openai_api_key:\n",
    "    print(f\"OpenAI API Key exists and begins {openai_api_key[:8]}\")\n",
    "else:\n",
    "    print(\"OpenAI API Key not set - please head to the troubleshooting guide in the setup folder\")\n",
    "    \n"
   ]
  },
  {
   "cell_type": "code",
   "execution_count": 4,
   "metadata": {},
   "outputs": [],
   "source": [
    "# And now - the all important import statement\n",
    "# If you get an import error - head over to troubleshooting guide\n",
    "\n",
    "from openai import OpenAI"
   ]
  },
  {
   "cell_type": "code",
   "execution_count": 6,
   "metadata": {},
   "outputs": [],
   "source": [
    "# And now we'll create an instance of the OpenAI class\n",
    "# If you're not sure what it means to create an instance of a class - head over to the guides folder!\n",
    "# If you get a NameError - head over to the guides folder to learn about NameErrors\n",
    "\n",
    "openai = OpenAI()"
   ]
  },
  {
   "cell_type": "code",
   "execution_count": 7,
   "metadata": {},
   "outputs": [],
   "source": [
    "# Create a list of messages in the familiar OpenAI format\n",
    "\n",
    "messages = [{\"role\": \"user\", \"content\": \"What is 2+2?\"}]"
   ]
  },
  {
   "cell_type": "code",
   "execution_count": 8,
   "metadata": {},
   "outputs": [
    {
     "name": "stdout",
     "output_type": "stream",
     "text": [
      "2 + 2 equals 4.\n"
     ]
    }
   ],
   "source": [
    "# And now call it! Any problems, head to the troubleshooting guide\n",
    "# This uses GPT 4.1 nano, the incredibly cheap model\n",
    "\n",
    "response = openai.chat.completions.create(\n",
    "    model=\"gpt-4.1-nano\",\n",
    "    messages=messages\n",
    ")\n",
    "\n",
    "print(response.choices[0].message.content)\n"
   ]
  },
  {
   "cell_type": "code",
   "execution_count": 9,
   "metadata": {},
   "outputs": [],
   "source": [
    "# And now - let's ask for a question:\n",
    "\n",
    "question = \"Please propose a hard, challenging question to assess someone's IQ. Respond only with the question.\"\n",
    "messages = [{\"role\": \"user\", \"content\": question}]\n"
   ]
  },
  {
   "cell_type": "code",
   "execution_count": 10,
   "metadata": {},
   "outputs": [
    {
     "name": "stdout",
     "output_type": "stream",
     "text": [
      "If two trains start from the same station heading in opposite directions, one traveling at 60 mph and the other at 90 mph, and after a certain time they are 300 miles apart, how long have they been traveling? Now, imagine a third train starts at the same time from the midpoint between the two trains, traveling at 80 mph towards the slower train. How far will this third train travel before it meets the slower train?\n"
     ]
    }
   ],
   "source": [
    "# ask it - this uses GPT 4.1 mini, still cheap but more powerful than nano\n",
    "\n",
    "response = openai.chat.completions.create(\n",
    "    model=\"gpt-4.1-mini\",\n",
    "    messages=messages\n",
    ")\n",
    "\n",
    "question = response.choices[0].message.content\n",
    "\n",
    "print(question)\n"
   ]
  },
  {
   "cell_type": "code",
   "execution_count": 11,
   "metadata": {},
   "outputs": [],
   "source": [
    "# form a new messages list\n",
    "messages = [{\"role\": \"user\", \"content\": question}]\n"
   ]
  },
  {
   "cell_type": "code",
   "execution_count": 12,
   "metadata": {},
   "outputs": [
    {
     "name": "stdout",
     "output_type": "stream",
     "text": [
      "Let's analyze the problem step-by-step.\n",
      "\n",
      "---\n",
      "\n",
      "### Part 1: Time until the two trains are 300 miles apart\n",
      "\n",
      "Two trains start from the same station and travel in opposite directions:\n",
      "\n",
      "- Train A speed: 60 mph\n",
      "- Train B speed: 90 mph\n",
      "\n",
      "We want to find the time \\( t \\) after which they are 300 miles apart.\n",
      "\n",
      "Since they are moving in opposite directions, their distances add up:\n",
      "\n",
      "\\[\n",
      "\\text{Distance apart} = 60t + 90t = 150t\n",
      "\\]\n",
      "\n",
      "Given the distance apart is 300 miles:\n",
      "\n",
      "\\[\n",
      "150t = 300 \\implies t = \\frac{300}{150} = 2 \\text{ hours}\n",
      "\\]\n",
      "\n",
      "---\n",
      "\n",
      "### Part 2: Third train starting at midpoint, heading towards slower train\n",
      "\n",
      "- After \\( t = 2 \\) hours, total distance between two trains = 300 miles.\n",
      "- Midpoint is at \\( \\frac{300}{2} = 150 \\) miles from each train.\n",
      "  \n",
      "At 2 hours:\n",
      "\n",
      "- Train A (60 mph): \\( 60 \\times 2 = 120 \\) miles from station.\n",
      "- Train B (90 mph): \\( 90 \\times 2 = 180 \\) miles from station (in opposite direction).\n",
      "  \n",
      "Positions on a number line from the station assumed:\n",
      "\n",
      "- Train A at +120 miles\n",
      "- Train B at -180 miles\n",
      "- Midpoint: \\( \\frac{120 + (-180)}{2} = \\frac{-60}{2} = -30 \\) miles from station\n",
      "\n",
      "---\n",
      "\n",
      "**Note:** The midpoint between the two trains after they've been traveling 2 hours is at 30 miles towards Train B, not exactly halfway between their starting point. It splits the distance between 120 and -180.\n",
      "\n",
      "Calculate the midpoint distance from Train A:\n",
      "\n",
      "- Distance between trains: 300 miles\n",
      "- Midpoint: 150 miles from each train in terms of distance along the path.\n",
      "\n",
      "Since our coordinate system is arbitrary, let's place Train A at 0 and Train B at 300 after 2 hours for simplicity:\n",
      "\n",
      "- Train A: position 0\n",
      "- Train B: position 300 miles (to the right)\n",
      "- Midpoint: position 150 miles\n",
      "\n",
      "---\n",
      "\n",
      "### Third train details:\n",
      "\n",
      "- Starts at midpoint: 150 miles from Train A (slower train at 0 miles)\n",
      "- Travels **towards** the slower train at 80 mph.\n",
      "- Slower train moves away at 60 mph.\n",
      "\n",
      "---\n",
      "\n",
      "### Calculate meeting point:\n",
      "\n",
      "Let \\( x \\) = distance the third train travels before meeting Train A.\n",
      "\n",
      "Time to meet for the third train:\n",
      "\n",
      "\\[\n",
      "t = \\frac{x}{80}\n",
      "\\]\n",
      "\n",
      "During this time, Train A moves forward at 60 mph:\n",
      "\n",
      "\\[\n",
      "\\text{Train A's travel distance} = 60 \\times t = 60 \\times \\frac{x}{80} = \\frac{3x}{4}\n",
      "\\]\n",
      "\n",
      "Initially, distance between the third train and Train A is 150 miles.\n",
      "\n",
      "When they meet:\n",
      "\n",
      "\\[\n",
      "x + \\frac{3x}{4} = 150 \\implies \\frac{7x}{4} = 150 \\implies x = \\frac{150 \\times 4}{7} = \\frac{600}{7} \\approx 85.71 \\text{ miles}\n",
      "\\]\n",
      "\n",
      "---\n",
      "\n",
      "### **Final answers:**\n",
      "\n",
      "- **Time until trains are 300 miles apart:** 2 hours\n",
      "- **Distance third train travels before meeting slower train:** approximately **85.71 miles**\n",
      "\n",
      "---\n",
      "\n",
      "If you want the meeting time explicitly,\n",
      "\n",
      "\\[\n",
      "t = \\frac{x}{80} = \\frac{600/7}{80} = \\frac{600}{7 \\times 80} = \\frac{600}{560} = \\frac{15}{14} \\approx 1.07 \\text{ hours}\n",
      "\\]\n",
      "\n",
      "The meeting occurs about 1.07 hours after the third train starts (which is 2 hours after the first two trains started).\n"
     ]
    }
   ],
   "source": [
    "# Ask it again\n",
    "\n",
    "response = openai.chat.completions.create(\n",
    "    model=\"gpt-4.1-mini\",\n",
    "    messages=messages\n",
    ")\n",
    "\n",
    "answer = response.choices[0].message.content\n",
    "print(answer)\n"
   ]
  },
  {
   "cell_type": "code",
   "execution_count": null,
   "metadata": {},
   "outputs": [],
   "source": [
    "from IPython.display import Markdown, display\n",
    "\n",
    "display(Markdown(answer))\n",
    "\n"
   ]
  },
  {
   "cell_type": "markdown",
   "metadata": {},
   "source": [
    "# Congratulations!\n",
    "\n",
    "That was a small, simple step in the direction of Agentic AI, with your new environment!\n",
    "\n",
    "Next time things get more interesting..."
   ]
  },
  {
   "cell_type": "markdown",
   "metadata": {},
   "source": [
    "<table style=\"margin: 0; text-align: left; width:100%\">\n",
    "    <tr>\n",
    "        <td style=\"width: 150px; height: 150px; vertical-align: middle;\">\n",
    "            <img src=\"../assets/exercise.png\" width=\"150\" height=\"150\" style=\"display: block;\" />\n",
    "        </td>\n",
    "        <td>\n",
    "            <h2 style=\"color:#ff7800;\">Exercise</h2>\n",
    "            <span style=\"color:#ff7800;\">Now try this commercial application:<br/>\n",
    "            First ask the LLM to pick a business area that might be worth exploring for an Agentic AI opportunity.<br/>\n",
    "            Then ask the LLM to present a pain-point in that industry - something challenging that might be ripe for an Agentic solution.<br/>\n",
    "            Finally have 3 third LLM call propose the Agentic AI solution.\n",
    "            </span>\n",
    "        </td>\n",
    "    </tr>\n",
    "</table>"
   ]
  },
  {
   "cell_type": "code",
   "execution_count": 13,
   "metadata": {},
   "outputs": [],
   "source": [
    "# First create the messages:\n",
    "\n",
    "messages = [{\"role\": \"user\", \"content\": \"Suggest good ideas for creating a commercially viable agentic application. For context, I know how to code, I am learning how to build AI agents. I also want to know how to build a profile that will be visible to the customer that I have worked on built AI Agents. Give me 10 such project ideas. \"}]\n",
    "\n",
    "# Then make the first call:\n",
    "\n",
    "response = openai.chat.completions.create(\n",
    "    model=\"gpt-3.5-turbo\",\n",
    "    messages=messages,\n",
    "    temperature=0.7,\n",
    ")\n",
    "\n",
    "# Then read the business idea:\n",
    "\n",
    "reply1 = response.choices[0].message.content\n",
    "\n",
    "# And repeat!"
   ]
  },
  {
   "cell_type": "code",
   "execution_count": 15,
   "metadata": {},
   "outputs": [
    {
     "data": {
      "text/markdown": [
       "1. Personalized shopping assistant: Create an AI agent that can analyze user preferences and recommend products based on their past purchases and browsing history.\n",
       "\n",
       "2. Virtual personal trainer: Develop an AI agent that can create personalized workout plans and provide real-time feedback during exercise sessions.\n",
       "\n",
       "3. AI-powered customer service chatbot: Build a chatbot that can handle customer queries and provide solutions in real-time, reducing the need for human customer service representatives.\n",
       "\n",
       "4. Virtual travel advisor: Create an AI agent that can suggest travel destinations, plan itineraries, and provide recommendations for activities and accommodations.\n",
       "\n",
       "5. Virtual health coach: Develop an AI agent that can track users' health data, provide personalized advice on diet and exercise, and motivate them to achieve their fitness goals.\n",
       "\n",
       "6. AI-powered financial advisor: Build an AI agent that can analyze users' financial data, provide investment recommendations, and help them plan for their financial goals.\n",
       "\n",
       "7. Virtual language tutor: Create an AI agent that can provide personalized language learning lessons, practice exercises, and feedback to help users improve their language skills.\n",
       "\n",
       "8. AI-powered job search assistant: Develop an AI agent that can analyze users' skills and experience, recommend job opportunities, and provide guidance on resume writing and interview preparation.\n",
       "\n",
       "9. Virtual therapist: Build an AI agent that can provide mental health support, offer coping strategies for stress and anxiety, and guide users through mindfulness exercises.\n",
       "\n",
       "10. AI-driven personal assistant: Create an AI agent that can manage users' schedules, set reminders, make appointments, and assist with everyday tasks to improve productivity and organization. \n",
       "\n",
       "To build a profile that showcases your experience in building AI agents, consider creating a portfolio website or LinkedIn profile where you can showcase your projects, provide details on the technologies used, and highlight any successful outcomes or positive feedback from clients. Additionally, consider participating in AI-related forums, conferences, and networking events to connect with potential customers and showcase your expertise in the field."
      ],
      "text/plain": [
       "<IPython.core.display.Markdown object>"
      ]
     },
     "metadata": {},
     "output_type": "display_data"
    }
   ],
   "source": [
    "from IPython.display import Markdown, display\n",
    "display(Markdown(reply1))\n"
   ]
  },
  {
   "cell_type": "code",
   "execution_count": 17,
   "metadata": {},
   "outputs": [
    {
     "data": {
      "text/markdown": [
       "Building an AI Agent that automates the process of sending LinkedIn connection requests, scraping job applications, customizing resumes, and sending emails to recruiters and hiring managers is technically feasible, but there are several challenges and considerations to keep in mind:\n",
       "\n",
       "1. **Automation and Security**: Automating actions on LinkedIn, such as sending connection requests and scraping job applications, may violate LinkedIn's terms of service. There is a risk of your account being flagged or restricted if LinkedIn detects automated behavior.\n",
       "\n",
       "2. **Personalization and Compliance**: Sending personalized messages to recruiters and hiring managers is crucial to avoid coming across as spammy. Additionally, you need to ensure compliance with data protection regulations when handling personal information.\n",
       "\n",
       "3. **Integration with Overleaf and LinkedIn**: You will need to check if there are official APIs or SDKs provided by Overleaf and LinkedIn for integration with your AI Agent. Accessing and manipulating data from these platforms without proper authorization can lead to legal issues.\n",
       "\n",
       "4. **Natural Language Processing (NLP)**: Building a system that can customize resume bullet points and draft personalized messages requires NLP capabilities to understand and generate human-like text.\n",
       "\n",
       "5. **Data Privacy and Security**: Handling sensitive data such as job applications and personal information requires strong security measures to protect user data and ensure compliance with data privacy regulations.\n",
       "\n",
       "6. **User Experience**: The AI Agent should provide a seamless and user-friendly experience for the end-user while performing complex tasks in the background.\n",
       "\n",
       "It's important to carefully consider the ethical implications, legal requirements, and technical challenges associated with building such an AI Agent. Before proceeding, you may want to consult with legal experts to ensure compliance and explore alternative approaches to achieve your goals in a way that respects user privacy and platform policies."
      ],
      "text/plain": [
       "<IPython.core.display.Markdown object>"
      ]
     },
     "metadata": {},
     "output_type": "display_data"
    }
   ],
   "source": [
    "messages.append({\"role\": \"assistant\", \"content\": reply1})\n",
    "\n",
    "messages.append({\"role\": \"user\", \"content\": \"I am thinking of building an AI Agent which sends linkedin connection requests based on a set on target companies. \\\n",
    "    The agent should login to my account in linkedin, and send connection request to recruiters with a personalised message. \\\n",
    "    I also want the Agentic framework to scrape job applications and customize my resume bullet points as latex code in overleaf, download the resume, \\\n",
    "    and send emails to relevant recruiters and hiring managers. How feasible is this? What would be the most difficult pain points while building this? \\\n",
    "    Is there sdk support from overleaf and linkedin if I want to build this? I want to know if this is a good idea, and if so, how to build it. \"})\n",
    "\n",
    "response = openai.chat.completions.create(\n",
    "    model=\"gpt-3.5-turbo\",\n",
    "    messages=messages,\n",
    "    temperature=0.7,\n",
    ")\n",
    "\n",
    "reply2 = response.choices[0].message.content\n",
    "display(Markdown(reply2))\n"
   ]
  },
  {
   "cell_type": "code",
   "execution_count": 18,
   "metadata": {},
   "outputs": [
    {
     "data": {
      "text/markdown": [
       "Building an invoice processing agent or personalized shopping agent involves leveraging technologies such as machine learning, natural language processing, and data extraction to automate tasks and provide personalized recommendations. Here's a general outline of how you can build these AI agents and some potential challenges:\n",
       "\n",
       "1. **Invoice Processing Agent**:\n",
       "   - **Data Extraction**: Use optical character recognition (OCR) technology to extract relevant information from invoices such as vendor details, invoice number, date, and line items.\n",
       "   - **Machine Learning**: Train machine learning models to classify and extract data from invoices accurately. This may involve building models for entity recognition, data validation, and error detection.\n",
       "   - **Automation**: Develop workflows to automate invoice processing tasks such as data entry, validation, and approval. Integrate with accounting software for seamless processing.\n",
       "   - **Integration**: Ensure seamless integration with existing systems and workflows to streamline the invoice processing process.\n",
       "\n",
       "   **Challenges**:\n",
       "   - Dealing with variations in invoice formats and layouts.\n",
       "   - Ensuring high accuracy in data extraction and processing.\n",
       "   - Handling sensitive financial information securely.\n",
       "   - Adhering to regulatory compliance such as GDPR for handling personal data.\n",
       "\n",
       "2. **Personalized Shopping Agent**:\n",
       "   - **User Profiling**: Collect and analyze user data to create personalized profiles based on preferences, browsing history, and purchase behavior.\n",
       "   - **Recommendation Engine**: Develop recommendation algorithms that suggest products based on user preferences, trends, and past interactions.\n",
       "   - **Natural Language Processing**: Implement NLP to understand user queries and provide relevant product recommendations.\n",
       "   - **Integration**: Integrate with e-commerce platforms to fetch product data, prices, and availability in real-time.\n",
       "\n",
       "   **Challenges**:\n",
       "   - Balancing personalization with privacy concerns and data protection regulations.\n",
       "   - Handling the scalability and real-time nature of product recommendations.\n",
       "   - Ensuring accuracy and relevance of recommendations to improve user satisfaction.\n",
       "   - Managing user feedback and continuously updating the recommendation engine.\n",
       "\n",
       "When building these AI agents, consider starting with a proof-of-concept to validate the feasibility and effectiveness of your approach. It's essential to iterate on your models, gather feedback from users, and continuously improve the AI agents to meet user needs and business objectives. Additionally, ensure that you address data security, privacy, and compliance requirements throughout the development process."
      ],
      "text/plain": [
       "<IPython.core.display.Markdown object>"
      ]
     },
     "metadata": {},
     "output_type": "display_data"
    }
   ],
   "source": [
    "messages.append({\"role\": \"assistant\", \"content\": reply2})\n",
    "\n",
    "messages. append({\"role\": \"user\", \"content\": \"If I were to build an invoice processing agent, or personalised shopping agent. How to build these? \\\n",
    "    What would be the most difficult pain points while building these? \"})\n",
    "\n",
    "response = openai.chat.completions.create(\n",
    "    model=\"gpt-3.5-turbo\",\n",
    "    messages=messages,\n",
    "    temperature=0.7,\n",
    ")\n",
    "\n",
    "reply3 = response.choices[0].message.content\n",
    "display(Markdown(reply3))"
   ]
  },
  {
   "cell_type": "code",
   "execution_count": 19,
   "metadata": {},
   "outputs": [
    {
     "data": {
      "text/markdown": [
       "When building AI agents such as an invoice processing agent or personalized shopping agent, the need for a UI depends on the intended use case and target audience. Here are some considerations for deploying and interacting with these agents:\n",
       "\n",
       "1. **UI vs. Backend Service**:\n",
       "   - **Backend Service**: For automated tasks like invoice processing, you may not need a traditional UI if the agent operates seamlessly in the background. The agent can process invoices, integrate with existing systems, and provide outputs without direct user interaction.\n",
       "   - **UI**: A UI may be necessary for agents like personalized shopping assistants, where user interaction and feedback are essential. The UI can facilitate user input, display recommendations, and allow users to provide feedback to improve the agent's performance.\n",
       "\n",
       "2. **End User Interaction**:\n",
       "   - **Backend Service**: If the agent operates in the backend without a UI, interaction may occur through integrations with existing systems (e.g., accounting software for invoice processing) or APIs for data exchange.\n",
       "   - **UI**: For agents with a UI, users can interact through a web or mobile interface to input preferences, view recommendations, provide feedback, and engage with the agent's functionalities.\n",
       "\n",
       "3. **Deployment and Availability**:\n",
       "   - **Cloud Deployment**: Deploying the AI agent in the cloud offers scalability, accessibility, and ease of maintenance. Cloud services like AWS, Azure, or Google Cloud provide infrastructure for hosting AI models and services.\n",
       "   - **End User Access**: Agents can be made available to end users through web applications, mobile apps, integrations with existing platforms, or APIs that allow seamless access to agent functionalities.\n",
       "\n",
       "4. **Agent Refinement**:\n",
       "   - **Data Collection**: Collect user data, feedback, and interaction logs to understand user behavior and preferences. This data can be used to refine the agent's algorithms and improve recommendations.\n",
       "   - **Model Iteration**: Continuously iterate on the AI models based on user feedback, performance metrics, and business goals. Experiment with different algorithms, features, and data sources to enhance the agent's effectiveness.\n",
       "   - **Testing and Validation**: Conduct thorough testing, validation, and performance monitoring to ensure the agent meets user expectations, operates reliably, and delivers accurate results.\n",
       "\n",
       "To make and refine your AI agent effectively, consider involving end users in the development process through user testing, feedback sessions, and usability studies. Incorporate agile development practices to iterate quickly, gather insights from user interactions, and make data-driven decisions to enhance the agent's performance and user experience."
      ],
      "text/plain": [
       "<IPython.core.display.Markdown object>"
      ]
     },
     "metadata": {},
     "output_type": "display_data"
    }
   ],
   "source": [
    "messages.append({\"role\": \"assistant\", \"content\": reply3})\n",
    "\n",
    "messages.append({\"role\": \"user\", \"content\": \"In order to build these.. Do I need to create a UI for these agents? Or simply deploy my agent in the cloud? \\\n",
    "    How would the end user interact with these agents? How would I make them available to the end user? How would I make and refine my agent?\"})\n",
    "\n",
    "response = openai.chat.completions.create(\n",
    "    model=\"gpt-3.5-turbo\",\n",
    "    messages=messages,\n",
    "    temperature=0.7,\n",
    ")\n",
    "\n",
    "reply4 = response.choices[0].message.content\n",
    "display(Markdown(reply4))"
   ]
  },
  {
   "cell_type": "markdown",
   "metadata": {},
   "source": []
  }
 ],
 "metadata": {
  "kernelspec": {
   "display_name": ".venv",
   "language": "python",
   "name": "python3"
  },
  "language_info": {
   "codemirror_mode": {
    "name": "ipython",
    "version": 3
   },
   "file_extension": ".py",
   "mimetype": "text/x-python",
   "name": "python",
   "nbconvert_exporter": "python",
   "pygments_lexer": "ipython3",
   "version": "3.12.11"
  }
 },
 "nbformat": 4,
 "nbformat_minor": 2
}
